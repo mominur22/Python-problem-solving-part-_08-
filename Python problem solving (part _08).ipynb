{
 "cells": [
  {
   "cell_type": "markdown",
   "id": "ba73c637",
   "metadata": {},
   "source": [
    "# Python problem solving (part _08)"
   ]
  },
  {
   "cell_type": "markdown",
   "id": "1cf186e9",
   "metadata": {},
   "source": [
    "# Tuple Problems:"
   ]
  },
  {
   "cell_type": "markdown",
   "id": "d96fb208",
   "metadata": {},
   "source": [
    "# 49. Tuple Concatenation: Write a Python program to concatenate two tuples and create a new tuple."
   ]
  },
  {
   "cell_type": "code",
   "execution_count": 1,
   "id": "e77945d5",
   "metadata": {},
   "outputs": [
    {
     "name": "stdout",
     "output_type": "stream",
     "text": [
      "The original tuple 1 : ((3, 4),)\n",
      "The original tuple 2 : ((5, 6),)\n",
      "Tuples after Concatenating : ((3, 4), (5, 6))\n"
     ]
    }
   ],
   "source": [
    "# initialize tuples\n",
    "test_tup1 = (3, 4),\n",
    "test_tup2 = (5, 6),\n",
    " \n",
    "# printing original tuples\n",
    "print(\"The original tuple 1 : \" + str(test_tup1))\n",
    "print(\"The original tuple 2 : \" + str(test_tup2))\n",
    "res = test_tup1 + test_tup2\n",
    "print(\"Tuples after Concatenating : \" + str(res))"
   ]
  },
  {
   "cell_type": "markdown",
   "id": "d7158978",
   "metadata": {},
   "source": [
    "# 50. Tuple Unpacking: Given a tuple with three elements (x, y, z), write a Python program to unpack the tuple and assign the values to three variables."
   ]
  },
  {
   "cell_type": "code",
   "execution_count": null,
   "id": "135218f3",
   "metadata": {},
   "outputs": [],
   "source": [
    "input_tuple = input(\"Enter three elements for the tuple separated by spaces: \")\n",
    "tuple_elements = tuple(input_tuple.split())\n",
    "# Unpack the tuple and assign values to three variables\n",
    "x, y, z = tuple_elements\n",
    "print(\"Value of x:\", x)\n",
    "print(\"Value of y:\", y)\n",
    "print(\"Value of z:\", z)"
   ]
  },
  {
   "cell_type": "markdown",
   "id": "bd20f053",
   "metadata": {},
   "source": [
    "# 51. Tuple Sorting: Write a Python program to sort a tuple of integers in ascending order."
   ]
  },
  {
   "cell_type": "code",
   "execution_count": null,
   "id": "4de05adb",
   "metadata": {},
   "outputs": [],
   "source": [
    "input_tuple = input(\"Enter integers for the tuple separated by spaces: \")\n",
    "integer_tuple = tuple(map(int, input_tuple.split()))\n",
    "\n",
    "# Sort the tuple in ascending order\n",
    "sorted_tuple = tuple(sorted(integer_tuple))\n",
    "print(\"Sorted Tuple in Ascending Order:\", sorted_tuple)"
   ]
  },
  {
   "cell_type": "markdown",
   "id": "05e4e3ab",
   "metadata": {},
   "source": [
    "# 52. Tuple Frequency Count: Given a tuple containing various elements, write a Python program to count the frequency of a specific element in the tuple."
   ]
  },
  {
   "cell_type": "code",
   "execution_count": null,
   "id": "9782ad5f",
   "metadata": {},
   "outputs": [],
   "source": [
    "input_tuple = input(\"Enter elements for the tuple separated by spaces: \")\n",
    "tuple_elements = tuple(input_tuple.split())\n",
    "element_to_count = input(\"Enter the element to count: \")\n",
    "occurrences_count = tuple_elements.count(element_to_count)\n",
    "print(f\"The element '{element_to_count}' occurs {occurrences_count} times in the tuple.\")\n"
   ]
  },
  {
   "cell_type": "markdown",
   "id": "75468202",
   "metadata": {},
   "source": [
    "# 53. Tuple to List: Write a Python program to convert a tuple into a list."
   ]
  },
  {
   "cell_type": "code",
   "execution_count": null,
   "id": "d44cfc05",
   "metadata": {},
   "outputs": [],
   "source": [
    "tuples = (0, 2, 4, 6, 8)\n",
    "mylist = list(tuples)\n",
    "\n",
    "# Using * unpacking method\n",
    "tuples = ('Spark', 'Python', 'pandas', 'Java')\n",
    "list1 = [*tuples,]"
   ]
  },
  {
   "cell_type": "markdown",
   "id": "24807504",
   "metadata": {},
   "source": [
    "# 54. Tuple Reversal: Write a Python program to reverse a tuple without using any built-in functions."
   ]
  },
  {
   "cell_type": "code",
   "execution_count": null,
   "id": "8b0d8fa8",
   "metadata": {},
   "outputs": [],
   "source": [
    "input_tuple = input(\"Enter elements for the tuple separated by spaces: \")\n",
    "tuple_elements = tuple(input_tuple.split())\n",
    "# Reverse the tuple without using built-in functions\n",
    "reversed_tuple = tuple_elements[::-1]\n",
    "print(\"Reversed Tuple:\", reversed_tuple)\n"
   ]
  },
  {
   "cell_type": "code",
   "execution_count": null,
   "id": "5f8d5b70",
   "metadata": {},
   "outputs": [],
   "source": []
  }
 ],
 "metadata": {
  "kernelspec": {
   "display_name": "Python 3 (ipykernel)",
   "language": "python",
   "name": "python3"
  },
  "language_info": {
   "codemirror_mode": {
    "name": "ipython",
    "version": 3
   },
   "file_extension": ".py",
   "mimetype": "text/x-python",
   "name": "python",
   "nbconvert_exporter": "python",
   "pygments_lexer": "ipython3",
   "version": "3.11.5"
  }
 },
 "nbformat": 4,
 "nbformat_minor": 5
}
